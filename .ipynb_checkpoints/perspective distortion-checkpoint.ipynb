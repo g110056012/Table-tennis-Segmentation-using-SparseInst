{
 "cells": [
  {
   "cell_type": "code",
   "execution_count": null,
   "id": "ecd23c54",
   "metadata": {},
   "outputs": [],
   "source": [
    "'''\n",
    "box[0]: [[163  32]]右上\n",
    "box[1]: [[63 72]]   左上\n",
    "box[2]: [[150 215]]左下\n",
    "box[3]: [[268 144]]右下\n",
    "'''\n",
    "\n",
    "\n",
    "import cv2\n",
    "import numpy as np\n",
    "import matplotlib.pyplot as plt\n",
    "img = cv2.imread('/home/yoson/SparseInst/official/SparseInst/table-tennis/result/test/f-3_frame1150.jpg')\n",
    "\n",
    "ROTATED_SIZE  = 600 #透视变换后的表盘图像大小\n",
    "CUT_SIZE     =  0   #透视变换时四周裁剪长度\n",
    "\n",
    "W_cols, H_rows= img.shape[:2]\n",
    "print(H_rows, W_cols)\n",
    "\n",
    "# 原图中书本的四个角点(左上、右上、右下、左下),与变换后矩阵位置,排好序的角点输出，0号是左上角，顺时针输出\n",
    "pts1 = np.float32([[63, 72], [163, 32], [268, 144], [150, 215]])\n",
    "#变换后矩阵位置\n",
    "pts2 = np.float32([[0, 0],[ROTATED_SIZE,0],[ROTATED_SIZE, ROTATED_SIZE],[0,ROTATED_SIZE],])\n",
    "\n",
    "\n",
    "# 生成透视变换矩阵；进行透视变换\n",
    "M = cv2.getPerspectiveTransform(pts1, pts2)\n",
    "dst = cv2.warpPerspective(img, M, (ROTATED_SIZE,ROTATED_SIZE))\n",
    "\n",
    "\n",
    "cv2.imshow(\"original_img\",img)\n",
    "cv2.imshow(\"result\",dst)\n",
    "cv2.waitKey(0)\n",
    "cv2.destroyAllWindows()"
   ]
  },
  {
   "cell_type": "code",
   "execution_count": null,
   "id": "23efea1a",
   "metadata": {},
   "outputs": [],
   "source": []
  }
 ],
 "metadata": {
  "kernelspec": {
   "display_name": "sparseinst",
   "language": "python",
   "name": "sparseinst"
  },
  "language_info": {
   "codemirror_mode": {
    "name": "ipython",
    "version": 3
   },
   "file_extension": ".py",
   "mimetype": "text/x-python",
   "name": "python",
   "nbconvert_exporter": "python",
   "pygments_lexer": "ipython3",
   "version": "3.10.8"
  }
 },
 "nbformat": 4,
 "nbformat_minor": 5
}
