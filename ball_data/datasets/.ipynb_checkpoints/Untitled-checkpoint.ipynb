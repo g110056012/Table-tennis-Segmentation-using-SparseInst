{
 "cells": [
  {
   "cell_type": "code",
   "execution_count": 17,
   "id": "18c775ef",
   "metadata": {},
   "outputs": [
    {
     "name": "stdout",
     "output_type": "stream",
     "text": [
      "loading annotations into memory...\n",
      "Done (t=0.01s)\n",
      "creating index...\n",
      "index created!\n"
     ]
    },
    {
     "name": "stderr",
     "output_type": "stream",
     "text": [
      "/tmp/ipykernel_2352731/650793511.py:27: DeprecationWarning: NEAREST is deprecated and will be removed in Pillow 10 (2023-07-01). Use Resampling.NEAREST or Dither.NONE instead.\n",
      "  mask_resized = np.array(Image.fromarray(mask).resize((1344, 756), resample=Image.NEAREST))\n"
     ]
    },
    {
     "ename": "AttributeError",
     "evalue": "'COCO' object has no attribute 'maskUtils'",
     "output_type": "error",
     "traceback": [
      "\u001b[0;31m---------------------------------------------------------------------------\u001b[0m",
      "\u001b[0;31mAttributeError\u001b[0m                            Traceback (most recent call last)",
      "Cell \u001b[0;32mIn [17], line 28\u001b[0m\n\u001b[1;32m     26\u001b[0m     mask \u001b[38;5;241m=\u001b[39m coco\u001b[38;5;241m.\u001b[39mannToMask(ann)\n\u001b[1;32m     27\u001b[0m     mask_resized \u001b[38;5;241m=\u001b[39m np\u001b[38;5;241m.\u001b[39marray(Image\u001b[38;5;241m.\u001b[39mfromarray(mask)\u001b[38;5;241m.\u001b[39mresize((\u001b[38;5;241m1344\u001b[39m, \u001b[38;5;241m756\u001b[39m), resample\u001b[38;5;241m=\u001b[39mImage\u001b[38;5;241m.\u001b[39mNEAREST))\n\u001b[0;32m---> 28\u001b[0m     ann[\u001b[38;5;124m\"\u001b[39m\u001b[38;5;124msegmentation\u001b[39m\u001b[38;5;124m\"\u001b[39m] \u001b[38;5;241m=\u001b[39m \u001b[43mcoco\u001b[49m\u001b[38;5;241;43m.\u001b[39;49m\u001b[43mmaskUtils\u001b[49m\u001b[38;5;241m.\u001b[39mencode(np\u001b[38;5;241m.\u001b[39masarray(mask_resized, dtype\u001b[38;5;241m=\u001b[39mnp\u001b[38;5;241m.\u001b[39muint8, order\u001b[38;5;241m=\u001b[39m\u001b[38;5;124m\"\u001b[39m\u001b[38;5;124mF\u001b[39m\u001b[38;5;124m\"\u001b[39m))\n\u001b[1;32m     30\u001b[0m \u001b[38;5;66;03m# Save the resized annotations\u001b[39;00m\n\u001b[1;32m     31\u001b[0m \u001b[38;5;28;01mwith\u001b[39;00m \u001b[38;5;28mopen\u001b[39m(\u001b[38;5;124m\"\u001b[39m\u001b[38;5;124mtrain/annotations_resized.json\u001b[39m\u001b[38;5;124m\"\u001b[39m, \u001b[38;5;124m\"\u001b[39m\u001b[38;5;124mw\u001b[39m\u001b[38;5;124m\"\u001b[39m) \u001b[38;5;28;01mas\u001b[39;00m f:\n",
      "\u001b[0;31mAttributeError\u001b[0m: 'COCO' object has no attribute 'maskUtils'"
     ]
    }
   ],
   "source": [
    "from pycocotools.coco import COCO\n",
    "from pycocotools import mask\n",
    "import numpy as np\n",
    "from PIL import Image\n",
    "\n",
    "\n",
    "# Load the annotations\n",
    "coco = COCO(\"train/annotations.json\")\n",
    "\n",
    "# Get the annotation data\n",
    "anns = coco.dataset[\"annotations\"]\n",
    "\n",
    "# Define the scaling factors\n",
    "width_scale = 1344 / 1920\n",
    "height_scale = 756 / 1080\n",
    "\n",
    "# Iterate over the annotations\n",
    "for ann in anns:\n",
    "    # Scale the bounding box coordinates\n",
    "    ann[\"bbox\"][0] *= width_scale\n",
    "    ann[\"bbox\"][1] *= height_scale\n",
    "    ann[\"bbox\"][2] *= width_scale\n",
    "    ann[\"bbox\"][3] *= height_scale\n",
    "\n",
    "    # Scale the segmentation mask\n",
    "    mask = coco.annToMask(ann)\n",
    "    mask_resized = np.array(Image.fromarray(mask).resize((1344, 756), resample=Image.NEAREST))\n",
    "    ann[\"segmentation\"] = coco.maskUtils.encode(np.asarray(mask_resized, dtype=np.uint8, order=\"F\"))\n",
    "\n",
    "# Save the resized annotations\n",
    "with open(\"train/annotations_resized.json\", \"w\") as f:\n",
    "    f.write(json.dumps(coco.dataset))"
   ]
  },
  {
   "cell_type": "code",
   "execution_count": 7,
   "id": "dffb148b",
   "metadata": {},
   "outputs": [
    {
     "name": "stdout",
     "output_type": "stream",
     "text": [
      "loading annotations into memory...\n",
      "Done (t=0.01s)\n",
      "creating index...\n",
      "index created!\n"
     ]
    }
   ],
   "source": [
    "from pycocotools.coco import COCO\n",
    "import numpy as np\n",
    "\n",
    "# Load the annotations\n",
    "coco = COCO(\"./train/annotations.json\")"
   ]
  },
  {
   "cell_type": "code",
   "execution_count": 8,
   "id": "5831b30b",
   "metadata": {},
   "outputs": [
    {
     "data": {
      "text/plain": [
       "<pycocotools.coco.COCO at 0x7f516dfb3be0>"
      ]
     },
     "execution_count": 8,
     "metadata": {},
     "output_type": "execute_result"
    }
   ],
   "source": [
    "coco"
   ]
  },
  {
   "cell_type": "code",
   "execution_count": 9,
   "id": "bb912cba",
   "metadata": {},
   "outputs": [
    {
     "name": "stdout",
     "output_type": "stream",
     "text": [
      "\u001b[0m\u001b[01;34mtest\u001b[0m/  \u001b[01;34mtrain\u001b[0m/  Untitled.ipynb  \u001b[01;34mval\u001b[0m/\r\n"
     ]
    }
   ],
   "source": [
    "ls"
   ]
  },
  {
   "cell_type": "code",
   "execution_count": null,
   "id": "657c8659",
   "metadata": {},
   "outputs": [],
   "source": [
    "import json\n",
    "\n",
    "# Load the annotation file\n",
    "with open('train/annotations.json', 'r') as f:\n",
    "    annotation = json.load(f)\n",
    "\n",
    "# Update the size information in the annotation file\n",
    "annotation['imageHeight'] = 756\n",
    "annotation['imageWidth'] = 1344\n",
    "\n",
    "# Update the coordinates of the objects in the annotation file based on the new image size\n",
    "for obj in annotation['shapes']:\n",
    "    for point in obj['points']:\n",
    "        point[0] = point[0] * (1344 / 1920)\n",
    "        point[1] = point[1] * (756 / 1080)\n",
    "\n",
    "# Save the updated annotation file\n",
    "with open('train/resized_annotation.json', 'w') as f:\n",
    "    json.dump(annotation, f)"
   ]
  }
 ],
 "metadata": {
  "kernelspec": {
   "display_name": "sparseinst",
   "language": "python",
   "name": "sparseinst"
  },
  "language_info": {
   "codemirror_mode": {
    "name": "ipython",
    "version": 3
   },
   "file_extension": ".py",
   "mimetype": "text/x-python",
   "name": "python",
   "nbconvert_exporter": "python",
   "pygments_lexer": "ipython3",
   "version": "3.10.8"
  }
 },
 "nbformat": 4,
 "nbformat_minor": 5
}
