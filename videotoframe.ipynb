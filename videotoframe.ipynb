{
 "cells": [
  {
   "cell_type": "code",
   "execution_count": 15,
   "id": "99d67544",
   "metadata": {},
   "outputs": [],
   "source": [
    "import cv2\n",
    "import os"
   ]
  },
  {
   "cell_type": "code",
   "execution_count": null,
   "id": "44a9ff94",
   "metadata": {},
   "outputs": [],
   "source": []
  },
  {
   "cell_type": "code",
   "execution_count": null,
   "id": "495498df",
   "metadata": {},
   "outputs": [],
   "source": []
  },
  {
   "cell_type": "code",
   "execution_count": 14,
   "id": "ca9e3f23",
   "metadata": {},
   "outputs": [],
   "source": [
    "### f-3.MOV ###"
   ]
  },
  {
   "cell_type": "code",
   "execution_count": 13,
   "id": "6e8d19a5",
   "metadata": {},
   "outputs": [],
   "source": [
    "# Open the video file\n",
    "cap = cv2.VideoCapture('/home/yoson/SparseInst/official/SparseInst/table-tennis/ball_data/cut_video/f-3_video.mp4')\n",
    "\n",
    "# Create a directory to save the frames\n",
    "save_dir = '/home/yoson/SparseInst/official/SparseInst/table-tennis/ball_data/cut_frames/f-3/'\n",
    "if not os.path.exists(save_dir):\n",
    "    os.makedirs(save_dir)\n",
    "\n",
    "# Loop through the frames and save each one as an image file\n",
    "frame_count = 0\n",
    "while(cap.isOpened()):\n",
    "    ret, frame = cap.read()\n",
    "    if ret == False:\n",
    "        break\n",
    "    frame_count += 1\n",
    "    save_path = os.path.join(save_dir, f\"f-3_frame{frame_count:04d}.jpg\")\n",
    "    cv2.imwrite(save_path, frame)\n",
    "\n",
    "cap.release()"
   ]
  },
  {
   "cell_type": "code",
   "execution_count": null,
   "id": "b94d665e",
   "metadata": {},
   "outputs": [],
   "source": []
  },
  {
   "cell_type": "code",
   "execution_count": null,
   "id": "34dc0982",
   "metadata": {},
   "outputs": [],
   "source": []
  },
  {
   "cell_type": "code",
   "execution_count": null,
   "id": "80e52bb3",
   "metadata": {},
   "outputs": [],
   "source": [
    "### f-4.MOV ###"
   ]
  },
  {
   "cell_type": "code",
   "execution_count": 16,
   "id": "66b3a80a",
   "metadata": {},
   "outputs": [],
   "source": [
    "# Open the video file\n",
    "cap = cv2.VideoCapture('/home/yoson/SparseInst/official/SparseInst/table-tennis/ball_data/cut_video/f-4_video.mp4')\n",
    "\n",
    "# Create a directory to save the frames\n",
    "save_dir = '/home/yoson/SparseInst/official/SparseInst/table-tennis/ball_data/cut_frames/f-4/'\n",
    "if not os.path.exists(save_dir):\n",
    "    os.makedirs(save_dir)\n",
    "\n",
    "# Loop through the frames and save each one as an image file\n",
    "frame_count = 0\n",
    "while(cap.isOpened()):\n",
    "    ret, frame = cap.read()\n",
    "    if ret == False:\n",
    "        break\n",
    "    frame_count += 1\n",
    "    save_path = os.path.join(save_dir, f\"f-4_frame{frame_count:04d}.jpg\")\n",
    "    cv2.imwrite(save_path, frame)\n",
    "\n",
    "cap.release()"
   ]
  },
  {
   "cell_type": "code",
   "execution_count": null,
   "id": "8f914773",
   "metadata": {},
   "outputs": [],
   "source": []
  },
  {
   "cell_type": "code",
   "execution_count": null,
   "id": "c3645da6",
   "metadata": {},
   "outputs": [],
   "source": []
  },
  {
   "cell_type": "code",
   "execution_count": null,
   "id": "89aec9fe",
   "metadata": {},
   "outputs": [],
   "source": [
    "### M-5.MOV ###"
   ]
  },
  {
   "cell_type": "code",
   "execution_count": 18,
   "id": "f8850b2b",
   "metadata": {},
   "outputs": [],
   "source": [
    "# Open the video file\n",
    "cap = cv2.VideoCapture('../table-tennis/ball_data/cut_video/M-5_video.mp4')\n",
    "\n",
    "# Create a directory to save the frames\n",
    "save_dir = '../table-tennis/ball_data/cut_frames/M-5/'\n",
    "if not os.path.exists(save_dir):\n",
    "    os.makedirs(save_dir)\n",
    "\n",
    "# Loop through the frames and save each one as an image file\n",
    "frame_count = 0\n",
    "while(cap.isOpened()):\n",
    "    ret, frame = cap.read()\n",
    "    if ret == False:\n",
    "        break\n",
    "    frame_count += 1\n",
    "    save_path = os.path.join(save_dir, f\"M-5_frame{frame_count:04d}.jpg\")\n",
    "    cv2.imwrite(save_path, frame)\n",
    "\n",
    "cap.release()"
   ]
  },
  {
   "cell_type": "code",
   "execution_count": null,
   "id": "ac8cfb5f",
   "metadata": {},
   "outputs": [],
   "source": []
  },
  {
   "cell_type": "code",
   "execution_count": null,
   "id": "e906bfa4",
   "metadata": {},
   "outputs": [],
   "source": []
  }
 ],
 "metadata": {
  "kernelspec": {
   "display_name": "sparseinst",
   "language": "python",
   "name": "sparseinst"
  },
  "language_info": {
   "codemirror_mode": {
    "name": "ipython",
    "version": 3
   },
   "file_extension": ".py",
   "mimetype": "text/x-python",
   "name": "python",
   "nbconvert_exporter": "python",
   "pygments_lexer": "ipython3",
   "version": "3.10.8"
  }
 },
 "nbformat": 4,
 "nbformat_minor": 5
}
